{
 "cells": [
  {
   "cell_type": "markdown",
   "metadata": {},
   "source": [
    "# Exploring GEO Metadata with GPT3\n"
   ]
  },
  {
   "cell_type": "markdown",
   "metadata": {},
   "source": [
    "Sequencing metadata can be quite sparse and in some cases difficult to find across all platforms. The goal of this project is to fulfil this information retrieval step using GPT3. \n",
    "\n",
    "This will only be run where the necessary information can not be found more easily."
   ]
  },
  {
   "cell_type": "code",
   "execution_count": 15,
   "metadata": {},
   "outputs": [],
   "source": [
    "import openai\n",
    "\n",
    "\n",
    "COMPLETIONS_MODEL = \"text-davinci-002\""
   ]
  },
  {
   "cell_type": "code",
   "execution_count": 2,
   "metadata": {},
   "outputs": [],
   "source": [
    "openai.api_key_path = '../api_key.txt'"
   ]
  },
  {
   "cell_type": "code",
   "execution_count": 8,
   "metadata": {},
   "outputs": [],
   "source": [
    "metadata_prompt_base = \"\"\"[Overal design]Profiling 5' ends of RNA degradation intermediates in Arabidopsis thaliana by parallel analysis of RNA ends (PARE); [Treatment]'None'; [Growth]'Arabidopsis seedlings was grown on 0.8% Bacto-agar plates containing half-strength Murashige and Skoog (MS) medium (pH 5.7) and 1% sucrose under a 16/8-h light/dark cycle at 22�C.  For smg7-1 and the WT control, the soil-grown plants were first grown at 22�C then transferred to 28�C.'; [Extraction]'Total RNA was extracted from the powder of frozen plant tissues by PureLink Plant RNA Reagent (Thermo Fisher).\\nPARE libraries were constructed from 80 ?g total RNA following the protocol described previously ( Zhai J, Arikit S, Simon SA, Kingham BF, Meyers BC: Rapid construction of parallel analysis of RNA end (PARE) libraries for Illumina sequencing. Methods 2014, 67:84-90).'; [Cell type]'Source: ''tissue: seedlings; ecotype: Col-0; growth medium: 1/2 MS + 1% sucrose + 0.8% agar; age: 10-day; genotype: wild-type; treatment: NA; ', 'tissue: seedlings; ecotype: Col-0; growth medium: 1/2 MS + 1% sucrose + 0.8% agar; age: 10-day; genotype: xrn4-6 mutant; treatment: NA; ', 'tissue: seedlings; ecotype: Col-0; growth medium: 1/2 MS + 1% sucrose + 0.8% agar; age: 10-day; genotype: fry1-6 mutant; treatment: NA; ', 'tissue: seedlings; ecotype: Col-0; growth medium: 1/2 MS + 1% sucrose + 0.8% agar; age: 12-day; genotype: wild-type; treatment: Mock for cyclohexmine treatment; ', 'tissue: seedlings; ecotype: Col-0; growth medium: 1/2 MS + 1% sucrose + 0.8% agar; age: 12-day; genotype: wild-type; treatment: Treatment of 10 �g/ml cyclohexmine for 6 hours; ', 'tissue: flower; ecotype: Col-0; growth medium: soil; age: 4-5wk-flowers; genotype: wild-type; treatment: NA; ', 'tissue: flower; ecotype: Col-0; growth medium: soil; age: 4-5wk-flowers; genotype: smg7-1 mutant; treatment: NA;\n",
    "\"\"\"\n"
   ]
  },
  {
   "cell_type": "code",
   "execution_count": 13,
   "metadata": {},
   "outputs": [],
   "source": [
    "metadata_prompt = metadata_prompt_base + \"\"\"Q: Are UMI's used in the experiment? True or False\n",
    "A:\n",
    "\"\"\""
   ]
  },
  {
   "cell_type": "code",
   "execution_count": 16,
   "metadata": {},
   "outputs": [],
   "source": [
    "metadata_prompt = metadata_prompt_base + \"\"\"Q: What organism was used in the experiment?\n",
    "A:\n",
    "\"\"\""
   ]
  },
  {
   "cell_type": "code",
   "execution_count": 20,
   "metadata": {},
   "outputs": [],
   "source": [
    "metadata_prompt = metadata_prompt_base + \"\"\"Q: Who is the first author of the protocol used in this study?\n",
    "A:\n",
    "\"\"\""
   ]
  },
  {
   "cell_type": "code",
   "execution_count": 21,
   "metadata": {},
   "outputs": [
    {
     "data": {
      "text/plain": [
       "'The first author of the protocol used in this study is Zhai J.'"
      ]
     },
     "execution_count": 21,
     "metadata": {},
     "output_type": "execute_result"
    }
   ],
   "source": [
    "openai.Completion.create(\n",
    "    prompt=metadata_prompt,\n",
    "    temperature=0,\n",
    "    max_tokens=300,\n",
    "    top_p=1,\n",
    "    frequency_penalty=0,\n",
    "    presence_penalty=0,\n",
    "    model=COMPLETIONS_MODEL\n",
    ")[\"choices\"][0][\"text\"].strip(\" \\n\")"
   ]
  }
 ],
 "metadata": {
  "kernelspec": {
   "display_name": "Python 3.9.13 ('openai')",
   "language": "python",
   "name": "python3"
  },
  "language_info": {
   "codemirror_mode": {
    "name": "ipython",
    "version": 3
   },
   "file_extension": ".py",
   "mimetype": "text/x-python",
   "name": "python",
   "nbconvert_exporter": "python",
   "pygments_lexer": "ipython3",
   "version": "3.9.13"
  },
  "orig_nbformat": 4,
  "vscode": {
   "interpreter": {
    "hash": "cf58d2c65e95db336fc74620f937f7349e788774d4478dedf0d0f665fbc95c62"
   }
  }
 },
 "nbformat": 4,
 "nbformat_minor": 2
}
